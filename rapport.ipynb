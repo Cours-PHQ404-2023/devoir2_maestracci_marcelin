{
 "cells": [
  {
   "cell_type": "markdown",
   "id": "86be919b-c0a8-4232-8cd6-7fb70f8f0feb",
   "metadata": {
    "tags": []
   },
   "source": [
    "# Rapport - Devoir #2\n",
    "## PHQ404\n",
    "Maestracci Nathan - Romain Marcelin\n",
    "## Introduction\n",
    "Dans ce rapport, nous présentons une implémentation python pour construire itérativement un hamiltonien de N élecrons en suivant le modèle d'Heisenberg. On calcule ensuite les énergies de l'état fondamental et du premier état excité pour les systèmes de 2 à 20 électrons. On implémente ensuite l'algorithme epsilon pour calculer la convergence de la différence de ces deux énergies, quand N est poussé vers l'infini.\n",
    "\n",
    "## Comment utiliser le programme\n",
    "\n",
    "* Toutes les fonctions ont été compilées dans le fichier fonctions.py. Tous les autres fichiers devraient contenir, dans leurs premières lignes, import fonctions.py.\n",
    "\n",
    "* Tous les résultats qui sont demandés explicitement ont un programme associé, qui sera mentionné dans la partie adéquate. Il suffit de lancer ce programme python pour obtenir les résultats.\n",
    "\n",
    "## Hamiltonien\n",
    "\n",
    "### Construction\n",
    "\n",
    "La fonction `hamiltonien()` prend deux arguments en entrée : $N$ et $J$. $N$ est la dimension de la matrice Hamiltonien et J est une constante de couplage. La fonction commence par créer une matrice creuse H2 de dimension 4x4 qui représente le Hamiltonien de second ordre.\n",
    "\n",
    "On peut ensuite multiplier cet hamiltonien sur tous les sites avec l'identité en généralisant la formule donnée dans l'énoncé:\n",
    "$ H_N = \\sum{I \\otimes ... \\otimes H \\otimes ... \\otimes I }  + \\sum _p S^p \\otimes S^p$\n",
    "\n",
    "On y additionne les produit $S \\otimes I \\otimes S$ des matrices de Pauli avec l'identité, pour chaque ordre l'identité est d'ordre $2^{(k-2)}$ pour que le produit soit d'ordre $ 2^k$ comme le Hamiltonien.\n",
    "\n",
    "Si $N$ est égal à 2, la fonction renvoie la matrice $H2$. Sinon, la fonction utilise une boucle pour calculer la somme des produits tensoriels pour des systèmes à $N$ niveaux. La matrice Hamiltonien est créée en utilisant la fonction $sp.kron$ (produit de Kronecker) qui calcule le produit tensoriel de deux matrices creuses.\n",
    "\n",
    "En fin de compte, la fonction renvoie le produit de la matrice Hamiltonien $H$ avec la constante de couplage $J$, où $J$ est une mesure de l'interaction entre les électrons.\n",
    "\n",
    "### Tests\n",
    "\n",
    "On a écrit un programmee qui utilise la fonction `hamiltonien()` pour imprimer le hamiltonien d'ordre 3 et de constante de couplage 4. Pour y acceder, il suffit d'executer le fichier  `test_hamiltonien_3.py`\n",
    "\n",
    "### Calcul\n",
    "\n",
    "Nous avons également calculé à la main le Hamiltonien d'ordre 3 et de couplage $J = 4$ ainsi:"
   ]
  },
  {
   "cell_type": "code",
   "execution_count": 8,
   "id": "d7518305-63d9-4b53-83f8-e73b2dcb8183",
   "metadata": {},
   "outputs": [
    {
     "name": "stdout",
     "output_type": "stream",
     "text": [
      "[[ 3.  0.  0.  0.  0.  0.  0.  0.]\n",
      " [ 0. -1.  2.  0.  2.  0.  0.  0.]\n",
      " [ 0.  2. -1.  0.  2.  0.  0.  0.]\n",
      " [ 0.  0.  0. -1.  0.  2.  2.  0.]\n",
      " [ 0.  2.  2.  0. -1.  0.  0.  0.]\n",
      " [ 0.  0.  0.  2.  0. -1.  2.  0.]\n",
      " [ 0.  0.  0.  2.  0.  2. -1.  0.]\n",
      " [ 0.  0.  0.  0.  0.  0.  0.  3.]]\n"
     ]
    }
   ],
   "source": [
    "import numpy as np\n",
    "import scipy.sparse as sp\n",
    "\n",
    "Sx = sp.bsr_matrix([[0, 0.5], [0.5, 0]]) #On crée les matrices de Pauli\n",
    "Sy = sp.bsr_matrix([[0, -0.5j], [0.5j, 0]])\n",
    "Sz = sp.bsr_matrix([[0.5, 0], [0, -0.5]])\n",
    "\n",
    "J=4 #Le couplage vaut 4\n",
    "H2=(1/4)*sp.coo_matrix([[1,0,0,0],[0,-1,2,0],[0,2,-1,0],[0,0,0,1]]) #On utilise H2 donné dans l'énoncé\n",
    "\n",
    "Sx_I_Sx=sp.kron(Sx, sp.kron(sp.eye(2), Sx)) #On calcule les produits S @ I @ S\n",
    "Sy_I_Sy=sp.kron(Sy, sp.kron(sp.eye(2), Sy))\n",
    "Sz_I_Sz=sp.kron(Sz, sp.kron(sp.eye(2), Sz))\n",
    "\n",
    "H2_I=sp.kron(H2,sp.eye(2)) #Les produits H2 @ I et I @ H2 \n",
    "I_H2=sp.kron(sp.eye(2),H2)\n",
    "\n",
    "H3=J*(H2_I+I_H2+Sx_I_Sx+Sy_I_Sy+Sz_I_Sz) #On additionne le tout\n",
    "\n",
    "print(H3.toarray().real) #On obtient H3"
   ]
  },
  {
   "cell_type": "markdown",
   "id": "071fd9e0-6767-4013-afa1-89f72587482c",
   "metadata": {
    "tags": []
   },
   "source": [
    "On retrouve le même Hamiltonien en éxecutant le programme `test_hamiltonien_3.py `\n",
    "\n",
    "## Energies\n",
    "\n",
    "### Construction\n",
    "Avec ce programme pour calculer les hamiltoniens en main, on peut calculer les énergies de ce dernier : Ce sont les valeurs propres du Hamiltonien. La fonction  `energie()` (dans le fichier `fonctions.py`) permet de calculer les deux premières valeurs propres non dégénérées d'une matrice creuse. \n",
    "On utilise la fonction `scipy.sparse.linalg.eigsh(which='SA)` qui calcule les valeur propres avec les plus petites valeurs algébriques, correspondant donc au énergies du hamiltonien concerné.\n",
    "Pour minimiser le nombre de valeurs propres à calculer (à chaque valeur propre supplémentaire le temps augmente drastiquement) on calcule d'abord 2 valeurs, et si elles sont différentes on recommence en en calculant une de plus. Une tolérance de 1/10000 est utilisée, pour prendre en compte la non analycité de la fonction `eigsh()`.\n",
    "\n",
    "### Résultats\n",
    "Pour obtenir les 2 premières valeurs propres distinctes des hamiltoniens d'ordre 2 à 20, on peut utiliser la fonction `imprimer_energies.py`. Comme ce programme prend un certain temps, le fichier `data.txt` dans lequel ces energies sont stockées est déjà créé et disponible dans ce répositoire.\n",
    "\n",
    "## Epsilon\n",
    "\n",
    "## Construction\n",
    "\n",
    "On construit comme dans les notes de cours l'algorithme epsilon, qui prend une liste python en entrée, et donne en sortie une prédiction pour la limite de la suite quand $N \\rightarrow \\infty$. L'algorithme est également dans le fichier `fonctions.py`. On a simplement stoppé l'algorithme quand il divise par zéro: on aura de toute façon pas mieux que la précision machine.\n",
    "\n",
    "### Tests\n",
    "\n",
    "#### Série de Gregory\n",
    "\n",
    "La série de Grégory, qui est liée au développement de Taylor de l'arctangente en $x = 1$, tend vers $\\pi$, assez lentement.\n",
    "On utilise le fichier `test_epsilon_gregory.py` pour imprimer, d'abord, comme comparaison, le millième terme de la série de grégory (~3.1405) et les 5 premiers termes utiles de l'algorithme epsilon (dont le dernier est ~3.141593). On voit que la convergence avec l'algorithme epsilon est bien plus rapide.\n",
    "\n",
    "#### Energies $E_0/N$ et $E_1 - E_0$\n",
    "\n",
    "Nous avons également testé la fonction `epsilon()` sur la suite des $E_0 / N$ dans le programme `test_epsilon_E0N.py`. Celui ci calcule les termes $E_0/N$, en fait une suite, l'utilise en entrée du programme epsilon et trace un graphique, en utilisant une barre horizontale pour dénoter la valeur que retourne la fonction `epsilon()`.\n",
    "Dans le même programme, on crée deux autres listes, `Liste_paire` et `Liste_impaire` qui sont respectivement les élements paires et impaires de la suite `Liste_test` qui compile les valeurs $E_0/N$\n",
    "Les trois graphiques sont tracés simultannément, avec trois limites de convergence\n",
    "\n",
    "On répète l'exacte même processus pour la suite $E_1-E_0$ en prenant les valeurs du même fichier texte `data.txt`. Le fichier python qui execute cette tâche et affiche les graphes est `test_epsilon_E0E1`.\n",
    "\n",
    "On peut voir sur ces graphiques que les valeurs de convergences sont proches, mais généralement la meilleure est celle qui compile toutes les valeurs de la série."
   ]
  }
 ],
 "metadata": {
  "kernelspec": {
   "display_name": "Python 3",
   "language": "python",
   "name": "python3"
  },
  "language_info": {
   "codemirror_mode": {
    "name": "ipython",
    "version": 3
   },
   "file_extension": ".py",
   "mimetype": "text/x-python",
   "name": "python",
   "nbconvert_exporter": "python",
   "pygments_lexer": "ipython3",
   "version": "3.10.6"
  }
 },
 "nbformat": 4,
 "nbformat_minor": 5
}
